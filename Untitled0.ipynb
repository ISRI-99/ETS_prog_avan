{
  "nbformat": 4,
  "nbformat_minor": 0,
  "metadata": {
    "colab": {
      "name": "Untitled0.ipynb",
      "provenance": [],
      "collapsed_sections": []
    },
    "kernelspec": {
      "name": "python3",
      "display_name": "Python 3"
    }
  },
  "cells": [
    {
      "cell_type": "code",
      "metadata": {
        "id": "1uTvTPjvLxH7",
        "colab_type": "code",
        "colab": {
          "base_uri": "https://localhost:8080/",
          "height": 100
        },
        "outputId": "4637b6f5-607e-4734-dc78-5b6140f33a35"
      },
      "source": [
        "class computadora():\n",
        "  def __init__(self,marca,modelo):\n",
        "     self.marca=marca\n",
        "     self.modelo=modelo\n",
        "     self.monitor= \"15\"\n",
        "     self.disco_duro= \"1Tb\"\n",
        "\n",
        "  def Describe_compu(self):\n",
        "      print(\"Su Computadora es una \"+self.marca+\" \"+self.modelo)\n",
        "     \n",
        "  def pantalla(self):\n",
        "      print(\"el monitor es de \"+str(self.monitor)+\" Pulgadas\")\n",
        "      \n",
        "  def memoria(self):\n",
        "      print(\"su disco duro es de \"+(self.disco_duro)+\"de almacenamiento\")\n",
        "\n",
        "class laptop(computadora):\n",
        "  def __init__(self,marca,modelo,):\n",
        "    super().__init__(marca,modelo,)\n",
        "    self.cargador= 19.5\n",
        "\n",
        "  def describe_laptop(self):\n",
        "      print(\"Su laptop es una \"+self.marca+\" \"+self.modelo)\n",
        "\n",
        "  def cargar(self):\n",
        "      print(\"Su cargador es de \"+str(self.cargador)+\"V\")\n",
        "\n",
        "mi_lap= laptop(\"Apple\",\"MacBook Pro\")\n",
        "mi_lap.describe_laptop()\n",
        "mi_lap.cargar()\n",
        "mi_compu= computadora(\"Dell\",\"workstation\")\n",
        "mi_compu.Describe_compu()\n",
        "mi_compu.pantalla()\n",
        "mi_compu.memoria()"
      ],
      "execution_count": 66,
      "outputs": [
        {
          "output_type": "stream",
          "text": [
            "Su laptop es una Apple MacBook Pro\n",
            "Su cargador es de 19.5V\n",
            "Su Computadora es una Dell workstation\n",
            "el monitor es de 15 Pulgadas\n",
            "su disco duro es de 1Tbde almacenamiento\n"
          ],
          "name": "stdout"
        }
      ]
    },
    {
      "cell_type": "code",
      "metadata": {
        "id": "ZQnjchMVLyOO",
        "colab_type": "code",
        "colab": {}
      },
      "source": [
        ""
      ],
      "execution_count": null,
      "outputs": []
    }
  ]
}